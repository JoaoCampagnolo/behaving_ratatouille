{
 "cells": [
  {
   "cell_type": "markdown",
   "id": "eabec8de",
   "metadata": {},
   "source": [
    "## Tubo de ensaio\n",
    "This is a sandbox notebook so I can test out some code and functions."
   ]
  },
  {
   "cell_type": "code",
   "execution_count": 1,
   "id": "315da0c0",
   "metadata": {},
   "outputs": [],
   "source": [
    "# Imports\n",
    "import numpy as np"
   ]
  },
  {
   "cell_type": "code",
   "execution_count": 14,
   "id": "89a30e6b",
   "metadata": {},
   "outputs": [
    {
     "data": {
      "text/plain": [
       "array([ 0.,  2.,  4.,  6.,  8., 10.])"
      ]
     },
     "execution_count": 14,
     "metadata": {},
     "output_type": "execute_result"
    }
   ],
   "source": [
    "nums = np.linspace(0,10,11)\n",
    "nums[::2]"
   ]
  },
  {
   "cell_type": "code",
   "execution_count": 7,
   "id": "694c91c6",
   "metadata": {},
   "outputs": [
    {
     "name": "stdout",
     "output_type": "stream",
     "text": [
      "[[1. 1. 1.]\n",
      " [1. 1. 1.]\n",
      " [1. 1. 1.]] [[0. 0. 0.]\n",
      " [4. 4. 4.]\n",
      " [4. 4. 4.]] [[0. 0. 0.]\n",
      " [4. 4. 4.]\n",
      " [4. 4. 4.]] [[0.  0.5 0.5]\n",
      " [4.  4.5 4.5]\n",
      " [4.  4.5 4.5]]\n"
     ]
    }
   ],
   "source": [
    "A = np.ones((3,3))\n",
    "B = (np.array(A)*2)**2\n",
    "n = np.shape(B)[0]\n",
    "C = B\n",
    "C[::n] = 0\n",
    "D = C+np.transpose(C)/D.max()\n",
    "print(A,B,C,D)"
   ]
  },
  {
   "cell_type": "code",
   "execution_count": 6,
   "id": "47d509eb",
   "metadata": {},
   "outputs": [
    {
     "data": {
      "text/plain": [
       "array([0.08333333, 0.08333333, 0.08333333, 0.16666667, 0.16666667,\n",
       "       0.08333333, 0.16666667, 0.16666667])"
      ]
     },
     "execution_count": 6,
     "metadata": {},
     "output_type": "execute_result"
    }
   ],
   "source": [
    "idx = D>0\n",
    "D[idx]/np.sum(D[idx])"
   ]
  },
  {
   "cell_type": "markdown",
   "id": "eadaf1d6",
   "metadata": {},
   "source": [
    "### Test embedding algorithms"
   ]
  },
  {
   "cell_type": "code",
   "execution_count": 8,
   "id": "5ca5e343",
   "metadata": {},
   "outputs": [],
   "source": [
    "# Open results\n",
    "import pickle\n",
    "\n",
    "# Select a directory\n",
    "res_dir = \"C:\\\\Users\\\\jhflc\\\\OneDrive\\\\Documentos\\\\Projects\\\\KI_article\\\\results\\\\19h38m_16_01_2022\\\\results_dict.pickle\"\n",
    "file = open(res_dir,'rb')\n",
    "obj = pickle.load(file)\n",
    "# Get the expression matrix to use:\n",
    "exp_matx = obj['Preprocess']['Data']['Exp_matrix']"
   ]
  },
  {
   "cell_type": "code",
   "execution_count": 13,
   "id": "d17d4acc",
   "metadata": {},
   "outputs": [],
   "source": []
  },
  {
   "cell_type": "code",
   "execution_count": null,
   "id": "14c11bad",
   "metadata": {},
   "outputs": [],
   "source": []
  }
 ],
 "metadata": {
  "kernelspec": {
   "display_name": "Python 3 (ipykernel)",
   "language": "python",
   "name": "python3"
  },
  "language_info": {
   "codemirror_mode": {
    "name": "ipython",
    "version": 3
   },
   "file_extension": ".py",
   "mimetype": "text/x-python",
   "name": "python",
   "nbconvert_exporter": "python",
   "pygments_lexer": "ipython3",
   "version": "3.9.7"
  }
 },
 "nbformat": 4,
 "nbformat_minor": 5
}
